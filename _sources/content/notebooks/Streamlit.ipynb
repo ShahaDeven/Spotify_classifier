{
 "cells": [
  {
   "cell_type": "markdown",
   "metadata": {},
   "source": [
    "### StreamLit Code"
   ]
  },
  {
   "cell_type": "code",
   "execution_count": null,
   "metadata": {},
   "outputs": [],
   "source": [
    "import streamlit as st\n",
    "import librosa\n",
    "import numpy as np\n",
    "import requests\n",
    "import os\n",
    "from pydub import AudioSegment\n",
    "import uuid\n",
    "\n",
    "\n",
    "# Define FastAPI URL for prediction (local or cloud)\n",
    "FASTAPI_URL = \"https://music-classifier-backend-nqly6c27da-uc.a.run.app/predict/\"  # Update for local or cloud deployment\n",
    "\n",
    "st.title(\"MP3 Song Mood Classifier & Metadata Extractor\")\n",
    "uploaded_file = st.file_uploader(\"Upload a song file (MP3 format)\", type=[\"mp3\"])\n",
    "\n",
    "if uploaded_file is not None:\n",
    "    st.audio(uploaded_file, format=\"audio/mp3\")\n",
    "    st.write(\"### Processing Audio File...\")\n",
    "\n",
    "    file_path = f\"{uuid.uuid4()}.mp3\"\n",
    "    with open(file_path, \"wb\") as f:\n",
    "        f.write(uploaded_file.read())\n",
    "\n",
    "    try:\n",
    "        files = {\"file\": (file_path, open(file_path, \"rb\"), \"audio/mpeg\")}\n",
    "        response = requests.post(FASTAPI_URL, files=files)\n",
    "        \n",
    "        if response.status_code == 200:\n",
    "            prediction = response.json()\n",
    "            mood = prediction.get(\"mood\", \"Unknown\")\n",
    "            metadata = prediction.get(\"song_metadata\", {})\n",
    "    \n",
    "            st.write(\"### Song Metadata:\")\n",
    "            st.write(f\"**Title:** {metadata.get('Title', 'Unknown')}\")\n",
    "            st.write(f\"**Artist:** {metadata.get('Artist', 'Unknown')}\")\n",
    "            st.write(f\"**Album:** {metadata.get('Album', 'Unknown')}\")\n",
    "            st.write(f\"**Release Date:** {metadata.get('Release Date', 'Unknown')}\")\n",
    "            st.write(f\"### Predicted Mood: {mood}\")\n",
    "\n",
    "        else:\n",
    "            st.error(f\"Error fetching prediction from FastAPI. Status: {response.status_code}\")\n",
    "            st.write(response.text)\n",
    "    except Exception as e:\n",
    "        st.error(f\"Error communicating with FastAPI: {e}\")\n"
   ]
  }
 ],
 "metadata": {
  "language_info": {
   "name": "python"
  }
 },
 "nbformat": 4,
 "nbformat_minor": 2
}
